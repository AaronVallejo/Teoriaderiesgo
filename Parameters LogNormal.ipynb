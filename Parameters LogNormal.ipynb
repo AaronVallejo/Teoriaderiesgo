{
 "cells": [
  {
   "cell_type": "markdown",
   "id": "6cf6d243",
   "metadata": {},
   "source": [
    "## Parameters of Y (LogNormal)"
   ]
  },
  {
   "cell_type": "code",
   "execution_count": 3,
   "id": "62a619ff",
   "metadata": {},
   "outputs": [],
   "source": [
    "using Distributions, Statistics, StatsPlots, CSV, DataFrames, BenchmarkTools"
   ]
  },
  {
   "cell_type": "markdown",
   "id": "57c752b2",
   "metadata": {},
   "source": [
    "Given , \n",
    "$$F_{Y}(y)= \\phi{ (\\frac{ln y -\\mu}{\\sigma}}) $$\n",
    "\n",
    "We´ll make an equation system in order to found the parameters$\\mu$ y $\\sigma$ for the distribution function LogNormal($\\mu$,$\\sigma$). \n",
    "\n",
    "Therefore,\n",
    "$$F_{Y}(50)= \\phi{ (\\frac{ln 50-\\mu}{\\sigma}})=0.50 \\cdots (1) $$  \\\n",
    "$$F_{Y}(5,500)= \\phi{ (\\frac{ln 5500-\\mu}{\\sigma}})=0.0995 \\cdots (2)$$ \n",
    "\n",
    "From equation (1) \\\n",
    "$\\Rightarrow  (\\frac{ln50-\\mu}{\\sigma})= \\phi ^{-1} (0.50) $ \\\n",
    "$\\Rightarrow \\mu ln(50) - \\sigma\\phi^{-1}(0.50) $\n",
    "where $\\phi^{-1}(0.50)=0$ \\\n",
    "$\\Rightarrow \\mu =3.912023005$ \\\n",
    "Now, by substituting $\\mu$ on (2) we get $\\sigma = 2.575829 $\n",
    "\n",
    "Another way to calculate the parameters $\\mu$ and $\\sigma$ is : \n",
    "\n",
    "$$\\frac{ln50-\\mu}{\\sigma}= \\phi ^{-1} (0.50) $$ \n",
    "\n",
    "$$\\frac{ln5500-\\mu}{\\sigma}= \\phi ^{-1} (0.995) $$ \n",
    "\n"
   ]
  },
  {
   "cell_type": "code",
   "execution_count": 12,
   "id": "524545bc",
   "metadata": {},
   "outputs": [
    {
     "data": {
      "text/plain": [
       "(3.912023005428146, 1.824841560469953)"
      ]
     },
     "execution_count": 12,
     "metadata": {},
     "output_type": "execute_result"
    }
   ],
   "source": [
    "μ,σ=log(50),log(5500/50)/quantile(Normal(),0.995)"
   ]
  },
  {
   "cell_type": "code",
   "execution_count": 13,
   "id": "a6ec3c32",
   "metadata": {},
   "outputs": [
    {
     "data": {
      "text/plain": [
       "LogNormal{Float64}(μ=3.912023005428146, σ=1.824841560469953)"
      ]
     },
     "execution_count": 13,
     "metadata": {},
     "output_type": "execute_result"
    }
   ],
   "source": [
    "Y=LogNormal(μ,σ)"
   ]
  },
  {
   "cell_type": "code",
   "execution_count": 14,
   "id": "af482246",
   "metadata": {},
   "outputs": [
    {
     "data": {
      "text/plain": [
       "(49.99999999999999, 5499.999999999999)"
      ]
     },
     "execution_count": 14,
     "metadata": {},
     "output_type": "execute_result"
    }
   ],
   "source": [
    "median(Y),quantile(Y,0.995)"
   ]
  },
  {
   "cell_type": "code",
   "execution_count": 15,
   "id": "841edaec",
   "metadata": {},
   "outputs": [
    {
     "data": {
      "text/plain": [
       "2.5758293035489053"
      ]
     },
     "execution_count": 15,
     "metadata": {},
     "output_type": "execute_result"
    }
   ],
   "source": [
    "quantile(Normal(),0.995)\n"
   ]
  },
  {
   "cell_type": "code",
   "execution_count": null,
   "id": "d0cd4d52",
   "metadata": {},
   "outputs": [],
   "source": []
  }
 ],
 "metadata": {
  "kernelspec": {
   "display_name": "Julia 1.6.0",
   "language": "julia",
   "name": "julia-1.6"
  },
  "language_info": {
   "file_extension": ".jl",
   "mimetype": "application/julia",
   "name": "julia",
   "version": "1.6.0"
  }
 },
 "nbformat": 4,
 "nbformat_minor": 5
}
